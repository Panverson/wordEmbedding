{
 "cells": [
  {
   "cell_type": "code",
   "execution_count": 17,
   "metadata": {},
   "outputs": [],
   "source": [
    "from gensim.models import Word2Vec\n",
    "import numpy as np\n",
    "from collections import Counter\n",
    "from utils import *"
   ]
  },
  {
   "cell_type": "code",
   "execution_count": 18,
   "metadata": {
    "scrolled": true
   },
   "outputs": [
    {
     "data": {
      "text/plain": [
       "['书记员',\n",
       " '分析师',\n",
       " '机长',\n",
       " '糕点师',\n",
       " '猎人',\n",
       " '司机',\n",
       " '勤杂工',\n",
       " '散文家',\n",
       " '研究员',\n",
       " '电焊工',\n",
       " '舞蹈家',\n",
       " '思想家',\n",
       " '交警',\n",
       " '厨师',\n",
       " '研究院',\n",
       " '美容师',\n",
       " '演奏家',\n",
       " '邮递员',\n",
       " '保洁员',\n",
       " '值机员',\n",
       " '专员',\n",
       " '医师',\n",
       " '泥水匠',\n",
       " '主裁判',\n",
       " '主播',\n",
       " '矿工',\n",
       " '机械师',\n",
       " '督导员',\n",
       " '园艺师',\n",
       " '导购员',\n",
       " '魔术师',\n",
       " '针灸师',\n",
       " '公务员',\n",
       " '城管',\n",
       " '统计员',\n",
       " '哲学家',\n",
       " '狱警',\n",
       " '乘务员',\n",
       " '工人',\n",
       " '史学家',\n",
       " '歌手',\n",
       " '文员',\n",
       " '电工',\n",
       " '航海家',\n",
       " '裁缝',\n",
       " '驯兽师',\n",
       " '协警',\n",
       " '编辑',\n",
       " '发明家',\n",
       " '化妆师',\n",
       " '调酒师',\n",
       " '营养师',\n",
       " '助理',\n",
       " '会计师',\n",
       " '救生员',\n",
       " '裁判长',\n",
       " '收银员',\n",
       " '出纳',\n",
       " '吧女',\n",
       " '石匠',\n",
       " '领航员',\n",
       " '洗碗工',\n",
       " '住院医生',\n",
       " '售货员',\n",
       " '赛车手',\n",
       " '服装师',\n",
       " '策划师',\n",
       " '规划师',\n",
       " '建筑家',\n",
       " '理发师',\n",
       " '伐木工',\n",
       " '作家',\n",
       " '兽医',\n",
       " '民警',\n",
       " '画家',\n",
       " '军人',\n",
       " '教授',\n",
       " '小贩',\n",
       " '治疗师',\n",
       " '记者',\n",
       " '老师',\n",
       " '保姆',\n",
       " '漫画家',\n",
       " '政治家',\n",
       " '警察',\n",
       " '清洁工',\n",
       " '美发师',\n",
       " '执法员',\n",
       " '安装工',\n",
       " '护理员',\n",
       " '架构师',\n",
       " '厨师长',\n",
       " '探险家',\n",
       " '舰长',\n",
       " '摄影师',\n",
       " '法官',\n",
       " '科长',\n",
       " '护士',\n",
       " '讲解员',\n",
       " '书记',\n",
       " '服务员',\n",
       " '经纪人',\n",
       " '修理工',\n",
       " '育婴师',\n",
       " '面包师',\n",
       " '歌唱家',\n",
       " '医生',\n",
       " '班主任',\n",
       " '音乐家',\n",
       " '焊工',\n",
       " '剪辑师',\n",
       " '演员',\n",
       " '畜牧师',\n",
       " '列车员',\n",
       " '艺术家',\n",
       " '瓦匠',\n",
       " '摄像师',\n",
       " '警卫员',\n",
       " '社会工作者',\n",
       " '剧作家',\n",
       " '木匠',\n",
       " '空姐',\n",
       " '门卫',\n",
       " '检察官',\n",
       " '化验员',\n",
       " '警卫',\n",
       " '特警',\n",
       " '顾问',\n",
       " '制片人',\n",
       " '监理',\n",
       " '科学家',\n",
       " '杂工',\n",
       " '法警',\n",
       " '分析员',\n",
       " '地勤',\n",
       " '运动员',\n",
       " '管理员',\n",
       " '操作工',\n",
       " '皮匠',\n",
       " '建筑师',\n",
       " '律师',\n",
       " '侍者',\n",
       " '店员',\n",
       " '消防员',\n",
       " '军事家',\n",
       " '造价师',\n",
       " '副机长',\n",
       " '总经理',\n",
       " '军官',\n",
       " '策略师',\n",
       " '指导员',\n",
       " '经理',\n",
       " '教师',\n",
       " '翻译员',\n",
       " '统计师',\n",
       " '外交官',\n",
       " '导游',\n",
       " '环卫工人',\n",
       " '精算师',\n",
       " '飞行员',\n",
       " '法医',\n",
       " '理财师',\n",
       " '讲师',\n",
       " '屠夫',\n",
       " '政论家',\n",
       " '理疗师',\n",
       " '建筑工人',\n",
       " '油漆工',\n",
       " '戏剧家',\n",
       " '按摩师',\n",
       " '裁判',\n",
       " '工程师',\n",
       " '灯光师',\n",
       " '采购员',\n",
       " '调度员',\n",
       " '审计员',\n",
       " '农民',\n",
       " '主持人',\n",
       " '检查员',\n",
       " '钢琴家',\n",
       " '水手',\n",
       " '环卫工',\n",
       " '侦探',\n",
       " '调查员',\n",
       " '造型师',\n",
       " '牙医',\n",
       " '助产士',\n",
       " '文艺家',\n",
       " '设计师',\n",
       " '干警',\n",
       " '总监',\n",
       " '内科医生',\n",
       " '芭蕾舞',\n",
       " '管道工',\n",
       " '商人',\n",
       " '秘书',\n",
       " '特技师',\n",
       " '裁判员',\n",
       " '诗人',\n",
       " '维修工',\n",
       " '客服',\n",
       " '分析家',\n",
       " '推销员',\n",
       " '邮差',\n",
       " '模特',\n",
       " '接待员',\n",
       " '技师',\n",
       " '月嫂',\n",
       " '烘焙师',\n",
       " '操作员',\n",
       " '保健员',\n",
       " '交易员',\n",
       " '魔术家',\n",
       " '花匠',\n",
       " '审计师',\n",
       " '话务员',\n",
       " '教练',\n",
       " '客户经理',\n",
       " '检修工',\n",
       " '文学家',\n",
       " '播音员',\n",
       " '球员',\n",
       " '机修工',\n",
       " '药师',\n",
       " '眼科医生',\n",
       " '驾驶员',\n",
       " '导游员',\n",
       " '音效师',\n",
       " '会计',\n",
       " '木工',\n",
       " '辅导员',\n",
       " '美术师',\n",
       " '主管',\n",
       " '装配工',\n",
       " '保安',\n",
       " '大厨',\n",
       " '鞋匠',\n",
       " '车手',\n",
       " '教练员',\n",
       " '程序员',\n",
       " '质检员',\n",
       " '侍应生',\n",
       " '海员',\n",
       " '饲养员',\n",
       " '指挥家',\n",
       " '导演',\n",
       " '外科医生',\n",
       " '烹调师',\n",
       " '学者',\n",
       " '咨询师']"
      ]
     },
     "execution_count": 18,
     "metadata": {},
     "output_type": "execute_result"
    }
   ],
   "source": [
    "profs_file = './class/profs.txt'\n",
    "profs = buildVocabFromFile(profs_file)\n",
    "\n",
    "profs"
   ]
  },
  {
   "cell_type": "code",
   "execution_count": 19,
   "metadata": {},
   "outputs": [
    {
     "data": {
      "text/plain": [
       "250"
      ]
     },
     "execution_count": 19,
     "metadata": {},
     "output_type": "execute_result"
    }
   ],
   "source": [
    "profs = list(uniquify(profs))\n",
    "len(profs)"
   ]
  },
  {
   "cell_type": "code",
   "execution_count": 20,
   "metadata": {},
   "outputs": [
    {
     "name": "stdout",
     "output_type": "stream",
     "text": [
      "0 words are not in the model.\n"
     ]
    },
    {
     "data": {
      "text/plain": [
       "[]"
      ]
     },
     "execution_count": 20,
     "metadata": {},
     "output_type": "execute_result"
    }
   ],
   "source": [
    "prof_wv, unmap = buildWordVec(profs)\n",
    "\n",
    "unmap"
   ]
  },
  {
   "cell_type": "code",
   "execution_count": 21,
   "metadata": {},
   "outputs": [],
   "source": [
    "with open('./class/profs.txt', 'w', encoding='utf-8') as f:\n",
    "    for word in profs:\n",
    "        f.write(word+'\\n')"
   ]
  },
  {
   "cell_type": "code",
   "execution_count": 30,
   "metadata": {},
   "outputs": [
    {
     "name": "stdout",
     "output_type": "stream",
     "text": [
      "54639\n",
      "54639\n"
     ]
    }
   ],
   "source": [
    "common = buildVocabFromFile('./data/common_word_list.txt')\n",
    "print(len(common))\n",
    "common_list = list(mergeWordlist(common, profs))\n",
    "print(len(common_list))"
   ]
  },
  {
   "cell_type": "code",
   "execution_count": 31,
   "metadata": {},
   "outputs": [],
   "source": [
    "common_list.sort()"
   ]
  },
  {
   "cell_type": "code",
   "execution_count": 32,
   "metadata": {},
   "outputs": [
    {
     "name": "stdout",
     "output_type": "stream",
     "text": [
      "['一', '一一', '一丁点儿', '一下', '一专多能', '一世', '一丘之貉', '一丝不挂', '一丝不苟', '一个心眼儿']\n"
     ]
    }
   ],
   "source": [
    "print(common_list[:10])"
   ]
  },
  {
   "cell_type": "code",
   "execution_count": 33,
   "metadata": {},
   "outputs": [],
   "source": [
    "saveVocab(common_list, './data/common_word_list.txt')"
   ]
  },
  {
   "cell_type": "code",
   "execution_count": 34,
   "metadata": {},
   "outputs": [
    {
     "name": "stdout",
     "output_type": "stream",
     "text": [
      "0 words are not in the model.\n"
     ]
    }
   ],
   "source": [
    "wv, t = buildWordVec(common_list)"
   ]
  },
  {
   "cell_type": "code",
   "execution_count": 35,
   "metadata": {
    "scrolled": true
   },
   "outputs": [
    {
     "data": {
      "text/plain": [
       "(54639, 256)"
      ]
     },
     "execution_count": 35,
     "metadata": {},
     "output_type": "execute_result"
    }
   ],
   "source": [
    "wv.shape"
   ]
  },
  {
   "cell_type": "code",
   "execution_count": 36,
   "metadata": {},
   "outputs": [
    {
     "data": {
      "text/plain": [
       "[]"
      ]
     },
     "execution_count": 36,
     "metadata": {},
     "output_type": "execute_result"
    }
   ],
   "source": [
    "t"
   ]
  },
  {
   "cell_type": "code",
   "execution_count": 37,
   "metadata": {},
   "outputs": [],
   "source": [
    "np.save('./wv.npy', wv)"
   ]
  },
  {
   "cell_type": "code",
   "execution_count": 38,
   "metadata": {},
   "outputs": [
    {
     "name": "stdout",
     "output_type": "stream",
     "text": [
      "[ 0.00906083 -0.07015138  0.11922807  0.18287271  0.11654977  0.43798605\n",
      "  0.34000024  0.3539938  -0.40127665 -0.1980257 ]\n"
     ]
    },
    {
     "name": "stderr",
     "output_type": "stream",
     "text": [
      "D:\\IDEs\\Anaconda\\lib\\site-packages\\ipykernel_launcher.py:1: DeprecationWarning: Call to deprecated `__getitem__` (Method will be removed in 4.0.0, use self.wv.__getitem__() instead).\n",
      "  \"\"\"Entry point for launching an IPython kernel.\n"
     ]
    }
   ],
   "source": [
    "print(model['教师'][:10])"
   ]
  }
 ],
 "metadata": {
  "kernelspec": {
   "display_name": "Python 3",
   "language": "python",
   "name": "python3"
  },
  "language_info": {
   "codemirror_mode": {
    "name": "ipython",
    "version": 3
   },
   "file_extension": ".py",
   "mimetype": "text/x-python",
   "name": "python",
   "nbconvert_exporter": "python",
   "pygments_lexer": "ipython3",
   "version": "3.7.0"
  }
 },
 "nbformat": 4,
 "nbformat_minor": 2
}
