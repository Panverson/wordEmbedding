{
 "cells": [
  {
   "cell_type": "code",
   "execution_count": 1,
   "metadata": {},
   "outputs": [],
   "source": [
    "import numpy as np\n",
    "from gensim.models.word2vec import Word2Vec"
   ]
  },
  {
   "cell_type": "code",
   "execution_count": 2,
   "metadata": {},
   "outputs": [],
   "source": [
    "common_word_file = './common.txt'\n",
    "model_path = './word2vec_baike'"
   ]
  },
  {
   "cell_type": "code",
   "execution_count": 3,
   "metadata": {},
   "outputs": [],
   "source": [
    "# 构建常用词词表\n",
    "\n",
    "common_word_list = [] # 常用词词表\n",
    "with open(common_word_file, encoding='utf-8') as f:\n",
    "    for line in f.readlines():\n",
    "        line = line.strip().split(\"\\t\")[0]\n",
    "        common_word_list.append(line)"
   ]
  },
  {
   "cell_type": "code",
   "execution_count": 4,
   "metadata": {},
   "outputs": [
    {
     "data": {
      "text/plain": [
       "['阿爸', '阿昌族', '阿斗', '阿飞', '阿富汗', '阿訇', '阿拉伯数字', '阿拉伯语', '阿妈', '阿门']"
      ]
     },
     "execution_count": 4,
     "metadata": {},
     "output_type": "execute_result"
    }
   ],
   "source": [
    "common_word_list[:10]"
   ]
  },
  {
   "cell_type": "code",
   "execution_count": 5,
   "metadata": {},
   "outputs": [
    {
     "data": {
      "text/plain": [
       "56064"
      ]
     },
     "execution_count": 5,
     "metadata": {},
     "output_type": "execute_result"
    }
   ],
   "source": [
    "len(common_word_list)"
   ]
  },
  {
   "cell_type": "code",
   "execution_count": 6,
   "metadata": {},
   "outputs": [],
   "source": [
    "model = Word2Vec.load(model_path)"
   ]
  },
  {
   "cell_type": "code",
   "execution_count": 36,
   "metadata": {},
   "outputs": [
    {
     "data": {
      "text/plain": [
       "[('警员', 0.7474413514137268),\n",
       " ('警察局', 0.7394711375236511),\n",
       " ('刑警', 0.7380716800689697),\n",
       " ('警官', 0.735241174697876),\n",
       " ('巡警', 0.694656491279602),\n",
       " ('狱警', 0.6896079182624817),\n",
       " ('警察们', 0.6856577396392822),\n",
       " ('警局', 0.6811584234237671),\n",
       " ('交警', 0.6719343662261963),\n",
       " ('检察官', 0.6681668758392334)]"
      ]
     },
     "execution_count": 36,
     "metadata": {},
     "output_type": "execute_result"
    }
   ],
   "source": [
    "model.wv.most_similar('警察')"
   ]
  },
  {
   "cell_type": "code",
   "execution_count": 37,
   "metadata": {},
   "outputs": [
    {
     "data": {
      "text/plain": [
       "[('医师', 0.7655103206634521),\n",
       " ('专科医生', 0.7637860774993896),\n",
       " ('主治医生', 0.7489140629768372),\n",
       " ('儿科医生', 0.7217793464660645),\n",
       " ('内科医生', 0.7148525714874268),\n",
       " ('医护人员', 0.713525652885437),\n",
       " ('护士', 0.7110531330108643),\n",
       " ('外科医生', 0.7105675935745239),\n",
       " ('妇科医生', 0.7049893140792847),\n",
       " ('眼科医生', 0.6900681853294373)]"
      ]
     },
     "execution_count": 37,
     "metadata": {},
     "output_type": "execute_result"
    }
   ],
   "source": [
    "model.wv.most_similar('医生')"
   ]
  },
  {
   "cell_type": "code",
   "execution_count": 38,
   "metadata": {},
   "outputs": [
    {
     "data": {
      "text/plain": [
       "[('任课老师', 0.7717864513397217),\n",
       " ('陈老师', 0.7675868272781372),\n",
       " ('刘老师', 0.752717137336731),\n",
       " ('周老师', 0.743727445602417),\n",
       " ('英语老师', 0.727684497833252),\n",
       " ('老师上课', 0.7191952466964722),\n",
       " ('马老师', 0.7170594930648804),\n",
       " ('数学老师', 0.71578049659729),\n",
       " ('班主任', 0.6840740442276001),\n",
       " ('同学', 0.6817842721939087)]"
      ]
     },
     "execution_count": 38,
     "metadata": {},
     "output_type": "execute_result"
    }
   ],
   "source": [
    "model.wv.most_similar('老师')"
   ]
  },
  {
   "cell_type": "code",
   "execution_count": 7,
   "metadata": {},
   "outputs": [
    {
     "name": "stderr",
     "output_type": "stream",
     "text": [
      "D:\\IDEs\\Anaconda\\lib\\site-packages\\ipykernel_launcher.py:9: DeprecationWarning: Call to deprecated `__getitem__` (Method will be removed in 4.0.0, use self.wv.__getitem__() instead).\n",
      "  if __name__ == '__main__':\n"
     ]
    }
   ],
   "source": [
    "common_word_vec = []\n",
    "word_list = []\n",
    "\n",
    "for word in common_word_list:\n",
    "    if word not in model.wv.vocab:\n",
    "        continue\n",
    "    else:\n",
    "        word_list.append(word)\n",
    "        common_word_vec.append(model[word])"
   ]
  },
  {
   "cell_type": "code",
   "execution_count": 8,
   "metadata": {
    "scrolled": true
   },
   "outputs": [
    {
     "data": {
      "text/plain": [
       "54868"
      ]
     },
     "execution_count": 8,
     "metadata": {},
     "output_type": "execute_result"
    }
   ],
   "source": [
    "len(word_list)"
   ]
  },
  {
   "cell_type": "code",
   "execution_count": 9,
   "metadata": {},
   "outputs": [
    {
     "data": {
      "text/plain": [
       "(54868, 256)"
      ]
     },
     "execution_count": 9,
     "metadata": {},
     "output_type": "execute_result"
    }
   ],
   "source": [
    "common_word_mat = np.array(common_word_vec)\n",
    "common_word_mat.shape"
   ]
  },
  {
   "cell_type": "code",
   "execution_count": 10,
   "metadata": {},
   "outputs": [
    {
     "name": "stderr",
     "output_type": "stream",
     "text": [
      "D:\\IDEs\\Anaconda\\lib\\site-packages\\ipykernel_launcher.py:3: DeprecationWarning: Call to deprecated `__getitem__` (Method will be removed in 4.0.0, use self.wv.__getitem__() instead).\n",
      "  This is separate from the ipykernel package so we can avoid doing imports until\n"
     ]
    },
    {
     "name": "stdout",
     "output_type": "stream",
     "text": [
      "54868\n",
      "54868\n"
     ]
    }
   ],
   "source": [
    "cnt = 0\n",
    "for i in range(len(word_list)):\n",
    "    if (model[word_list[i]] == common_word_mat[i]).all():\n",
    "        cnt += 1\n",
    "print(len(word_list))\n",
    "print(cnt)"
   ]
  },
  {
   "cell_type": "code",
   "execution_count": 12,
   "metadata": {},
   "outputs": [],
   "source": [
    "with open('common_word_list.txt', 'w', encoding='utf-8') as f:\n",
    "    for word in word_list:\n",
    "        f.write(word+'\\n')"
   ]
  },
  {
   "cell_type": "code",
   "execution_count": 13,
   "metadata": {},
   "outputs": [],
   "source": [
    "np.save('common_word_vec.npy',common_word_vec)"
   ]
  },
  {
   "cell_type": "code",
   "execution_count": null,
   "metadata": {},
   "outputs": [],
   "source": []
  }
 ],
 "metadata": {
  "kernelspec": {
   "display_name": "Python 3",
   "language": "python",
   "name": "python3"
  },
  "language_info": {
   "codemirror_mode": {
    "name": "ipython",
    "version": 3
   },
   "file_extension": ".py",
   "mimetype": "text/x-python",
   "name": "python",
   "nbconvert_exporter": "python",
   "pygments_lexer": "ipython3",
   "version": "3.7.0"
  }
 },
 "nbformat": 4,
 "nbformat_minor": 2
}
